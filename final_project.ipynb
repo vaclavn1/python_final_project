{
 "cells": [
  {
   "cell_type": "markdown",
   "id": "planned-classics",
   "metadata": {},
   "source": [
    "# Závěrečný projekt\n",
    "\n",
    "* Kdo jsem\n",
    "* Vyberte si projekt\n",
    "  * inspirace: https://docs.python.en.sdacademy.pro/practical_project/practical_project/\n",
    "  * můžete vybrat z toho, nebo vlastní nápad (probereme)\n",
    "  * měla by to být\n",
    "    * interaktivní webová aplikace\n",
    "    * zobrazuje nějaká data\n",
    "    * umožní uživateli interakci v podobě zadávání/změn dat\n",
    "    * administrace\n",
    "* můžete na projektu pracovat samostatně, nebo v menších skupinách (2-3 lidé)"
   ]
  },
  {
   "cell_type": "markdown",
   "id": "thermal-hotel",
   "metadata": {},
   "source": [
    "## Nápady\n",
    "* virtuální knihovna\n",
    "* náhodný seznam osob, fiktivní volební kandidátka, možnost stažení seznamu osob\n",
    "* databáze vtipů, uživatelé hodnotí vtipy, navrhují vlastní\n",
    "* hra Mastermind (Logik)\n",
    "* jednoduchý blog, účty uživatelů, mohli by přidávat příspěvky WYSIWYG/markdown\n",
    "* životopis (aplikace -> tvorba životopisů)\n",
    "* todo list\n",
    "* aplikace na zobrazování počasí (dotážete se na nějaké API, uživatel si může měnit polohu pomocí zadání místa/GPS souřadnic atd.)\n",
    "* výdejna náhradních dílů (přehled skladových zásob), uživatel by na sebe fasoval, filtrace\n",
    "* jídlo - kalorie (z nakoupených), statistiky, váha člověka atd.\n",
    "* pronájem nemovitostí (krátkodobé) - booking uživateli (odeslání mailů), práce s API/web scraping, aby se tam propisovaly rezervace z jiných stránek\n",
    "* aplikace na testy/kvízy"
   ]
  },
  {
   "cell_type": "markdown",
   "id": "cubic-progressive",
   "metadata": {},
   "source": [
    "## Než začnete\n",
    "1. definovat minimální požadavky - aby aplikace měla smysl, ale nebylo tam nic \"navíc\"\n",
    "2. definovat možná rozšíření - co by bylo dobré mít nad rámec minimálních požadavků\n",
    "3. rozmyslet si prioritu funkcí (co potřebujete udělat nejdříve, na čem budete pracovat potom)\n",
    "4. rozvrhnout, jak bude aplikace vypadat co do uživatelského rozhraní (např. bude tam jen jedna stránka/stránka na zobrazení nějakého seznamu + stránky pro detaily + stránky pro editaci), např pomocí Cacoo ( https://cacoo.com/)\n",
    "5. rozvrhnout, jak bude aplikace vypadat co do dat (co přesně chceme ukládat do databáze) a operací nad daty (co s položkami v databázi dělat)\n",
    "6. pokud pracujete v týmu, rozdělit si nějak práci na úkoly (např. nástěnka v Trellu, kde budete mít sloupce jako \"Zbývá udělat\", \"Pracuji na\", \"Hotovo\")\n",
    "7. začít pracovat :)"
   ]
  },
  {
   "cell_type": "markdown",
   "id": "combined-notice",
   "metadata": {},
   "source": [
    "* založit účty, kde je potřeba\n",
    "* založit Git repozitář\n",
    "* založit virtualenv, `requirements.txt` (soubor, kam zapíšete balíky a jejich verze, které jsou nutné pro běh projektu, případně pro vývoj)\n",
    "* nakonfigurovat Django"
   ]
  },
  {
   "cell_type": "markdown",
   "id": "certified-anaheim",
   "metadata": {},
   "source": [
    "## Rozvrh práce\n",
    "* máme na to 3 víkendy, rozvrhnout si tedy práci tak, abyste stíhali (nejdřív udělat jen nutné minimum, které se dá rozšířit)\n",
    "* práce v týmu/individuálně, pokud se zaseknete/budete potřebovat radu, napište mi na Slacku\n",
    "\n",
    "### Denní rozvrh\n",
    "9:00 - 9:30 - společný rozhovor, krátká prezentace pokroku, co se daří, co se nedaří\n",
    "\n",
    "9:30 - 10:00 - krátká diskuse, řešení problémů\n",
    "\n",
    "10:00 - 15:00 - práce v týmech (budu Vám pomáhat/konzultovat na Zoomu) - obsahuje přestávku na oběd\n",
    "\n",
    "15:00 - 15:30 - závěr dne, prezentace toho, co jste stihli\n",
    "\n",
    "15:30 - ??:?? - individuální práce (měl bych být pořád dostupný na Slacku)\n",
    "\n",
    "### Týdenní rozvrh (zhruba)\n",
    "#### Víkend 1\n",
    "* **den 1 (12. 6.)** - splnit sekci \"Než začnete\" po bod 3\n",
    "* **den 2 (13. 6.)** - splnit sekci \"Než začnete\" po bod 5-6?\n",
    "#### Víkend 2\n",
    "* (19.-20. 6.)práce na projektu\n",
    "#### Víkend 3\n",
    "* práce na projektu\n",
    "* na závěr (poslední den) - prezentace ostatním"
   ]
  },
  {
   "cell_type": "markdown",
   "id": "champion-hindu",
   "metadata": {},
   "source": [
    "### Git\n",
    "* https://git-scm.com/book/cs/v2/%C3%9Avod-Z%C3%A1klady-syst%C3%A9mu-Git"
   ]
  },
  {
   "cell_type": "markdown",
   "id": "economic-philippines",
   "metadata": {},
   "source": [
    "změna"
   ]
  }
 ],
 "metadata": {
  "kernelspec": {
   "display_name": "Python 3",
   "language": "python",
   "name": "python3"
  },
  "language_info": {
   "codemirror_mode": {
    "name": "ipython",
    "version": 3
   },
   "file_extension": ".py",
   "mimetype": "text/x-python",
   "name": "python",
   "nbconvert_exporter": "python",
   "pygments_lexer": "ipython3",
   "version": "3.8.5"
  }
 },
 "nbformat": 4,
 "nbformat_minor": 5
}
